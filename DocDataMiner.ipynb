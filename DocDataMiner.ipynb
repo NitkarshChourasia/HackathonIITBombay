{
 "cells": [
  {
   "cell_type": "code",
   "execution_count": 34,
   "id": "1d0cd599",
   "metadata": {},
   "outputs": [
    {
     "ename": "ModuleNotFoundError",
     "evalue": "No module named 'Image'",
     "output_type": "error",
     "traceback": [
      "\u001b[0;31m---------------------------------------------------------------------------\u001b[0m",
      "\u001b[0;31mModuleNotFoundError\u001b[0m                       Traceback (most recent call last)",
      "Cell \u001b[0;32mIn[34], line 8\u001b[0m\n\u001b[1;32m      6\u001b[0m \u001b[38;5;28;01mimport\u001b[39;00m \u001b[38;5;21;01mPIL\u001b[39;00m\n\u001b[1;32m      7\u001b[0m \u001b[38;5;28;01mfrom\u001b[39;00m \u001b[38;5;21;01mPIL\u001b[39;00m \u001b[38;5;28;01mimport\u001b[39;00m Image\n\u001b[0;32m----> 8\u001b[0m \u001b[38;5;28;01mfrom\u001b[39;00m \u001b[38;5;21;01mImage\u001b[39;00m \u001b[38;5;28;01mimport\u001b[39;00m \u001b[38;5;28mopen\u001b[39m \u001b[38;5;28;01mas\u001b[39;00m imgo\n\u001b[1;32m      9\u001b[0m \u001b[38;5;28;01mfrom\u001b[39;00m \u001b[38;5;21;01mpdf2image\u001b[39;00m \u001b[38;5;28;01mimport\u001b[39;00m pdfinfo_from_path \u001b[38;5;28;01mas\u001b[39;00m pfp\n",
      "\u001b[0;31mModuleNotFoundError\u001b[0m: No module named 'Image'"
     ]
    }
   ],
   "source": [
    "import skimage\n",
    "import pdf2image\n",
    "from pdf2image import convert_from_path as cp\n",
    "from skimage import feature\n",
    "from skimage import io\n",
    "import PIL\n",
    "from PIL import Image\n",
    "from pdf2image import pdfinfo_from_path as pfp"
   ]
  },
  {
   "cell_type": "markdown",
   "id": "615cd3c9",
   "metadata": {},
   "source": [
    "Now import images or pdf"
   ]
  },
  {
   "cell_type": "code",
   "execution_count": 9,
   "id": "9ba5b7ce",
   "metadata": {},
   "outputs": [
    {
     "name": "stdout",
     "output_type": "stream",
     "text": [
      "<class 'str'>\n"
     ]
    }
   ],
   "source": [
    "#file: accepts a path string of the original document\n",
    "def fileopen(file) -> '[PIL image object]':\n",
    "    return type(file)\n",
    "\n",
    "print(fileopen('candles.pdf'))"
   ]
  },
  {
   "cell_type": "code",
   "execution_count": 21,
   "id": "a2045fea",
   "metadata": {
    "collapsed": true
   },
   "outputs": [
    {
     "ename": "KeyError",
     "evalue": "'is_pdf'",
     "output_type": "error",
     "traceback": [
      "\u001b[0;31m---------------------------------------------------------------------------\u001b[0m",
      "\u001b[0;31mUnidentifiedImageError\u001b[0m                    Traceback (most recent call last)",
      "Cell \u001b[0;32mIn[21], line 5\u001b[0m, in \u001b[0;36mfileopen\u001b[0;34m(file)\u001b[0m\n\u001b[1;32m      4\u001b[0m \u001b[38;5;28;01mtry\u001b[39;00m:\n\u001b[0;32m----> 5\u001b[0m     pil_img \u001b[38;5;241m=\u001b[39m \u001b[43mImage\u001b[49m\u001b[38;5;241;43m.\u001b[39;49m\u001b[43mopen\u001b[49m\u001b[43m(\u001b[49m\u001b[43mfile\u001b[49m\u001b[43m)\u001b[49m\n\u001b[1;32m      6\u001b[0m     \u001b[38;5;28mprint\u001b[39m(\u001b[38;5;124m\"\u001b[39m\u001b[38;5;124mis an image\u001b[39m\u001b[38;5;124m\"\u001b[39m)\n",
      "File \u001b[0;32m/usr/lib/python3.10/site-packages/PIL/Image.py:3186\u001b[0m, in \u001b[0;36mopen\u001b[0;34m(fp, mode, formats)\u001b[0m\n\u001b[1;32m   3185\u001b[0m     warnings\u001b[38;5;241m.\u001b[39mwarn(message)\n\u001b[0;32m-> 3186\u001b[0m \u001b[38;5;28;01mraise\u001b[39;00m UnidentifiedImageError(\n\u001b[1;32m   3187\u001b[0m     \u001b[38;5;124m\"\u001b[39m\u001b[38;5;124mcannot identify image file \u001b[39m\u001b[38;5;132;01m%r\u001b[39;00m\u001b[38;5;124m\"\u001b[39m \u001b[38;5;241m%\u001b[39m (filename \u001b[38;5;28;01mif\u001b[39;00m filename \u001b[38;5;28;01melse\u001b[39;00m fp)\n\u001b[1;32m   3188\u001b[0m )\n",
      "\u001b[0;31mUnidentifiedImageError\u001b[0m: cannot identify image file 'candles.pdf'",
      "\nDuring handling of the above exception, another exception occurred:\n",
      "\u001b[0;31mKeyError\u001b[0m                                  Traceback (most recent call last)",
      "Cell \u001b[0;32mIn[21], line 14\u001b[0m\n\u001b[1;32m     11\u001b[0m         \u001b[38;5;28;01melse\u001b[39;00m:\n\u001b[1;32m     12\u001b[0m             \u001b[38;5;28mprint\u001b[39m(\u001b[38;5;124m\"\u001b[39m\u001b[38;5;124mnot a pdf either\u001b[39m\u001b[38;5;124m\"\u001b[39m)\n\u001b[0;32m---> 14\u001b[0m \u001b[38;5;28mprint\u001b[39m(\u001b[43mfileopen\u001b[49m\u001b[43m(\u001b[49m\u001b[38;5;124;43m'\u001b[39;49m\u001b[38;5;124;43mcandles.pdf\u001b[39;49m\u001b[38;5;124;43m'\u001b[39;49m\u001b[43m)\u001b[49m)\n",
      "Cell \u001b[0;32mIn[21], line 9\u001b[0m, in \u001b[0;36mfileopen\u001b[0;34m(file)\u001b[0m\n\u001b[1;32m      7\u001b[0m \u001b[38;5;28;01mexcept\u001b[39;00m:\n\u001b[1;32m      8\u001b[0m     pdf_file \u001b[38;5;241m=\u001b[39m pfp(file)\n\u001b[0;32m----> 9\u001b[0m     \u001b[38;5;28;01mif\u001b[39;00m (\u001b[43mpdf_file\u001b[49m\u001b[43m[\u001b[49m\u001b[38;5;124;43m'\u001b[39;49m\u001b[38;5;124;43mis_pdf\u001b[39;49m\u001b[38;5;124;43m'\u001b[39;49m\u001b[43m]\u001b[49m):\n\u001b[1;32m     10\u001b[0m         \u001b[38;5;28mprint\u001b[39m(\u001b[38;5;124m\"\u001b[39m\u001b[38;5;124mis a pdf\u001b[39m\u001b[38;5;124m\"\u001b[39m)\n\u001b[1;32m     11\u001b[0m     \u001b[38;5;28;01melse\u001b[39;00m:\n",
      "\u001b[0;31mKeyError\u001b[0m: 'is_pdf'"
     ]
    }
   ],
   "source": [
    "#file: accepts a path string of the original document\n",
    "def fileopen(file) -> '[PIL image object]':\n",
    "    #check if file is an image or pdf\n",
    "    if (is_pdf(file)):\n",
    "        pass\n",
    "    elif (is_img(file)):\n",
    "        pass\n",
    "\n",
    "print(fileopen('candles.pdf'))"
   ]
  },
  {
   "cell_type": "code",
   "execution_count": null,
   "id": "03e2e221",
   "metadata": {},
   "outputs": [],
   "source": [
    "help(PIL.Image.isImageType)"
   ]
  },
  {
   "cell_type": "code",
   "execution_count": 18,
   "id": "85e8acfe",
   "metadata": {
    "collapsed": true
   },
   "outputs": [
    {
     "name": "stdout",
     "output_type": "stream",
     "text": [
      "Help on function open in module PIL.Image:\n",
      "\n",
      "open(fp, mode='r', formats=None)\n",
      "    Opens and identifies the given image file.\n",
      "    \n",
      "    This is a lazy operation; this function identifies the file, but\n",
      "    the file remains open and the actual image data is not read from\n",
      "    the file until you try to process the data (or call the\n",
      "    :py:meth:`~PIL.Image.Image.load` method).  See\n",
      "    :py:func:`~PIL.Image.new`. See :ref:`file-handling`.\n",
      "    \n",
      "    :param fp: A filename (string), pathlib.Path object or a file object.\n",
      "       The file object must implement ``file.read``,\n",
      "       ``file.seek``, and ``file.tell`` methods,\n",
      "       and be opened in binary mode.\n",
      "    :param mode: The mode.  If given, this argument must be \"r\".\n",
      "    :param formats: A list or tuple of formats to attempt to load the file in.\n",
      "       This can be used to restrict the set of formats checked.\n",
      "       Pass ``None`` to try all supported formats. You can print the set of\n",
      "       available formats by running ``python3 -m PIL`` or using\n",
      "       the :py:func:`PIL.features.pilinfo` function.\n",
      "    :returns: An :py:class:`~PIL.Image.Image` object.\n",
      "    :exception FileNotFoundError: If the file cannot be found.\n",
      "    :exception PIL.UnidentifiedImageError: If the image cannot be opened and\n",
      "       identified.\n",
      "    :exception ValueError: If the ``mode`` is not \"r\", or if a ``StringIO``\n",
      "       instance is used for ``fp``.\n",
      "    :exception TypeError: If ``formats`` is not ``None``, a list or a tuple.\n",
      "\n"
     ]
    }
   ],
   "source": [
    "help(PIL.Image.open)"
   ]
  },
  {
   "cell_type": "code",
   "execution_count": 27,
   "id": "6a6652eb",
   "metadata": {},
   "outputs": [
    {
     "name": "stdout",
     "output_type": "stream",
     "text": [
      "False\n"
     ]
    }
   ],
   "source": [
    "def is_pdf(file) -> 'Boolean':\n",
    "    try:\n",
    "        pdf_file = pfp(file)\n",
    "    except:\n",
    "        return False\n",
    "    return True\n",
    "    \n",
    "print(is_pdf('converted.png'))"
   ]
  },
  {
   "cell_type": "code",
   "execution_count": 40,
   "id": "e32263f1",
   "metadata": {},
   "outputs": [
    {
     "name": "stdout",
     "output_type": "stream",
     "text": [
      "True\n"
     ]
    }
   ],
   "source": [
    "def is_img(file) -> 'Boolean':\n",
    "    try:\n",
    "        img_file = Image.open(file)\n",
    "    except:\n",
    "        return False\n",
    "    return True\n",
    "\n",
    "print(is_img(\"temp.ppm\"))"
   ]
  }
 ],
 "metadata": {
  "kernelspec": {
   "display_name": "Python 3 (ipykernel)",
   "language": "python",
   "name": "python3"
  },
  "language_info": {
   "codemirror_mode": {
    "name": "ipython",
    "version": 3
   },
   "file_extension": ".py",
   "mimetype": "text/x-python",
   "name": "python",
   "nbconvert_exporter": "python",
   "pygments_lexer": "ipython3",
   "version": "3.10.8"
  }
 },
 "nbformat": 4,
 "nbformat_minor": 5
}
