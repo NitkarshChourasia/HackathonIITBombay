{
 "cells": [
  {
   "cell_type": "code",
   "execution_count": null,
   "id": "307684de",
   "metadata": {},
   "outputs": [],
   "source": [
    "# All Imports go here\n",
    "\n",
    "\n",
    "#all is_functions should return two things: info['is_it'] and info['unique]\n",
    "#info['is_it']: returns True or False\n",
    "#info['unique']: return unique information in a dict object about the document\n",
    "#file: accepts a file in image format\n",
    "#text: "
   ]
  },
  {
   "cell_type": "code",
   "execution_count": null,
   "id": "b1425aa9",
   "metadata": {},
   "outputs": [],
   "source": [
    "def is_aadhar_front(file, text):"
   ]
  },
  {
   "cell_type": "code",
   "execution_count": null,
   "id": "fc3424e7",
   "metadata": {},
   "outputs": [],
   "source": [
    "def is_aadhar_back(file, text):"
   ]
  },
  {
   "cell_type": "code",
   "execution_count": null,
   "id": "e50d2717",
   "metadata": {},
   "outputs": [],
   "source": [
    "def is_pan(file, text):"
   ]
  },
  {
   "cell_type": "code",
   "execution_count": null,
   "id": "89c1464f",
   "metadata": {},
   "outputs": [],
   "source": [
    "def is_voter_id(file, text):"
   ]
  },
  {
   "cell_type": "code",
   "execution_count": null,
   "id": "3ea33d0b",
   "metadata": {},
   "outputs": [],
   "source": [
    "def is_passport(file, text):"
   ]
  },
  {
   "cell_type": "code",
   "execution_count": null,
   "id": "d058bb56",
   "metadata": {},
   "outputs": [],
   "source": [
    "def is_driving_license(file, text):"
   ]
  },
  {
   "cell_type": "code",
   "execution_count": null,
   "id": "3224638a",
   "metadata": {},
   "outputs": [],
   "source": [
    "def is_form_16(file, text):"
   ]
  },
  {
   "cell_type": "code",
   "execution_count": null,
   "id": "1c02bec9",
   "metadata": {},
   "outputs": [],
   "source": [
    "def is_power_bill(file, text):"
   ]
  },
  {
   "cell_type": "code",
   "execution_count": null,
   "id": "4005f195",
   "metadata": {},
   "outputs": [],
   "source": [
    "def is_water_bill(file, text):"
   ]
  },
  {
   "cell_type": "code",
   "execution_count": null,
   "id": "0c6a9a2c",
   "metadata": {},
   "outputs": [],
   "source": [
    "def is_gas_bill(file, text):"
   ]
  },
  {
   "cell_type": "code",
   "execution_count": null,
   "id": "71bbd07f",
   "metadata": {},
   "outputs": [],
   "source": [
    "def is_landline_bill(file, text):"
   ]
  },
  {
   "cell_type": "code",
   "execution_count": null,
   "id": "06cc1552",
   "metadata": {},
   "outputs": [],
   "source": [
    "def is_bank_statement(file, text):"
   ]
  },
  {
   "cell_type": "code",
   "execution_count": null,
   "id": "fbc3f94b",
   "metadata": {},
   "outputs": [],
   "source": [
    "def is_cheque_leaf(file, text):"
   ]
  },
  {
   "cell_type": "code",
   "execution_count": null,
   "id": "5d809bbb",
   "metadata": {},
   "outputs": [],
   "source": [
    "def is_salary_slip(file, text):"
   ]
  }
 ],
 "metadata": {
  "kernelspec": {
   "display_name": "Python 3 (ipykernel)",
   "language": "python",
   "name": "python3"
  },
  "language_info": {
   "codemirror_mode": {
    "name": "ipython",
    "version": 3
   },
   "file_extension": ".py",
   "mimetype": "text/x-python",
   "name": "python",
   "nbconvert_exporter": "python",
   "pygments_lexer": "ipython3",
   "version": "3.10.8"
  }
 },
 "nbformat": 4,
 "nbformat_minor": 5
}
